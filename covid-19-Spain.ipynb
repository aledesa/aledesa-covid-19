{
 "cells": [
  {
   "cell_type": "markdown",
   "metadata": {},
   "source": [
    "# Installations"
   ]
  },
  {
   "cell_type": "code",
   "execution_count": null,
   "metadata": {
    "ExecuteTime": {
     "end_time": "2020-03-29T20:27:18.277141Z",
     "start_time": "2020-03-29T20:27:18.273138Z"
    }
   },
   "outputs": [],
   "source": [
    "# !pip install  \"G:/16860/DM_BIGDATA/DM_Digital_y_CJ/Utilidades/Python/Packages/utm-0.5.0.tar.gz\""
   ]
  },
  {
   "cell_type": "code",
   "execution_count": null,
   "metadata": {
    "ExecuteTime": {
     "end_time": "2020-03-29T20:27:18.391221Z",
     "start_time": "2020-03-29T20:27:18.279141Z"
    }
   },
   "outputs": [],
   "source": [
    "# !pip install \"branca-0.4.0.tar.gz\""
   ]
  },
  {
   "cell_type": "code",
   "execution_count": null,
   "metadata": {
    "ExecuteTime": {
     "end_time": "2020-03-29T20:27:18.501309Z",
     "start_time": "2020-03-29T20:27:18.394224Z"
    }
   },
   "outputs": [],
   "source": [
    "# !pip install \"folium-0.10.1.tar.gz\""
   ]
  },
  {
   "cell_type": "markdown",
   "metadata": {},
   "source": [
    "# Import Packages"
   ]
  },
  {
   "cell_type": "code",
   "execution_count": null,
   "metadata": {
    "ExecuteTime": {
     "end_time": "2020-03-29T20:27:20.492289Z",
     "start_time": "2020-03-29T20:27:18.503303Z"
    }
   },
   "outputs": [],
   "source": [
    "import folium\n",
    "from folium import plugins\n",
    "from folium.plugins import TimeSliderChoropleth\n",
    "import pandas as pd\n",
    "import json\n",
    "import os\n",
    "from zipfile import ZipFile\n",
    "from datetime import timedelta\n",
    "import plotly.express as px\n",
    "import plotly.offline"
   ]
  },
  {
   "cell_type": "markdown",
   "metadata": {},
   "source": [
    "# Import Data"
   ]
  },
  {
   "cell_type": "markdown",
   "metadata": {},
   "source": [
    "## Import Geo"
   ]
  },
  {
   "cell_type": "code",
   "execution_count": null,
   "metadata": {
    "ExecuteTime": {
     "end_time": "2020-03-29T20:27:20.572284Z",
     "start_time": "2020-03-29T20:27:20.494234Z"
    }
   },
   "outputs": [],
   "source": [
    "with open('./data/comunidades-autonomas-espanolas.json') as f:\n",
    "  ccaa = json.load(f)"
   ]
  },
  {
   "cell_type": "code",
   "execution_count": null,
   "metadata": {
    "ExecuteTime": {
     "end_time": "2020-03-29T20:27:20.635970Z",
     "start_time": "2020-03-29T20:27:20.574228Z"
    }
   },
   "outputs": [],
   "source": [
    "ccaa_clean = {'type': 'FeatureCollection'\n",
    "             ,'features':[{'type':'Feature'\n",
    "                  ,'id':ccaa[i]['fields']['codigo']\n",
    "                  ,'properties':{'name':ccaa[i]['fields']['texto']}\n",
    "                 , 'geometry':{'type':ccaa[i]['fields']['geo_shape']['type']\n",
    "                              , 'coordinates':ccaa[i]['fields']['geo_shape']['coordinates']}}\n",
    "            for i in range(0,19)]\n",
    "             }"
   ]
  },
  {
   "cell_type": "code",
   "execution_count": null,
   "metadata": {
    "ExecuteTime": {
     "end_time": "2020-03-29T20:27:20.746598Z",
     "start_time": "2020-03-29T20:27:20.638890Z"
    }
   },
   "outputs": [],
   "source": [
    "# for i in range(0,19):\n",
    "#     print(ccaa_clean['features']"
   ]
  },
  {
   "cell_type": "code",
   "execution_count": null,
   "metadata": {
    "ExecuteTime": {
     "end_time": "2020-03-29T20:27:20.850358Z",
     "start_time": "2020-03-29T20:27:20.749603Z"
    }
   },
   "outputs": [],
   "source": [
    "# ccaa_clean['features'][0]"
   ]
  },
  {
   "cell_type": "markdown",
   "metadata": {},
   "source": [
    "## Import Contagion Data"
   ]
  },
  {
   "cell_type": "code",
   "execution_count": null,
   "metadata": {
    "ExecuteTime": {
     "end_time": "2020-03-29T20:27:20.956523Z",
     "start_time": "2020-03-29T20:27:20.857392Z"
    }
   },
   "outputs": [],
   "source": [
    "# virus = pd.read_excel('./data/COVID_19_SPAIN_OFFICIAL_DATA.xlsx')"
   ]
  },
  {
   "cell_type": "code",
   "execution_count": null,
   "metadata": {
    "ExecuteTime": {
     "end_time": "2020-03-29T20:27:21.071578Z",
     "start_time": "2020-03-29T20:27:20.959499Z"
    }
   },
   "outputs": [],
   "source": [
    "# https://github.com/datadista/datasets/tree/master/COVID%2019"
   ]
  },
  {
   "cell_type": "code",
   "execution_count": null,
   "metadata": {
    "ExecuteTime": {
     "end_time": "2020-03-29T20:27:21.166995Z",
     "start_time": "2020-03-29T20:27:21.073580Z"
    }
   },
   "outputs": [],
   "source": [
    "# Create a ZipFile Object and load sample.zip in it\n",
    "with ZipFile('./data/datasets-master.zip', 'r') as zipObj:\n",
    "   # Extract all the contents of zip file in different directory\n",
    "   zipObj.extractall('data')"
   ]
  },
  {
   "cell_type": "code",
   "execution_count": null,
   "metadata": {
    "ExecuteTime": {
     "end_time": "2020-03-29T20:27:21.334801Z",
     "start_time": "2020-03-29T20:27:21.168989Z"
    }
   },
   "outputs": [],
   "source": [
    "casos = pd.read_csv('./data/datasets-master/COVID 19/ccaa_covid19_casos_long.csv'\n",
    "                    ,dtype={'cod_ine':'str'},parse_dates=True)\n",
    "altas = pd.read_csv('./data/datasets-master/COVID 19/ccaa_covid19_altas_long.csv'\n",
    "                    ,dtype={'cod_ine':'str'},parse_dates=True)\n",
    "fallecidos = pd.read_csv('./data/datasets-master/COVID 19/ccaa_covid19_fallecidos_long.csv'\n",
    "                         ,dtype={'cod_ine':'str'},parse_dates=True)\n",
    "hosp = pd.read_csv('./data/datasets-master/COVID 19/ccaa_covid19_hospitalizados_long.csv'\n",
    "                   ,dtype={'cod_ine':'str'},parse_dates=True)\n",
    "uci = pd.read_csv('./data/datasets-master/COVID 19/ccaa_covid19_uci_long.csv'\n",
    "                  ,dtype={'cod_ine':'str'},parse_dates=True)"
   ]
  },
  {
   "cell_type": "code",
   "execution_count": null,
   "metadata": {
    "ExecuteTime": {
     "end_time": "2020-03-29T20:27:21.421707Z",
     "start_time": "2020-03-29T20:27:21.336820Z"
    }
   },
   "outputs": [],
   "source": [
    "casos.rename(columns={'total':'casos'},inplace=True)\n",
    "altas.rename(columns={'total':'altas'},inplace=True)\n",
    "fallecidos.rename(columns={'total':'fallecidos'},inplace=True)\n",
    "hosp.rename(columns={'total':'hosp'},inplace=True)\n",
    "uci.rename(columns={'total':'uci'},inplace=True)"
   ]
  },
  {
   "cell_type": "code",
   "execution_count": null,
   "metadata": {
    "ExecuteTime": {
     "end_time": "2020-03-29T20:27:21.530099Z",
     "start_time": "2020-03-29T20:27:21.423708Z"
    }
   },
   "outputs": [],
   "source": [
    "# max(casos['fecha'])"
   ]
  },
  {
   "cell_type": "markdown",
   "metadata": {},
   "source": [
    "### merge partials"
   ]
  },
  {
   "cell_type": "code",
   "execution_count": null,
   "metadata": {
    "ExecuteTime": {
     "end_time": "2020-03-29T20:27:21.681742Z",
     "start_time": "2020-03-29T20:27:21.532099Z"
    }
   },
   "outputs": [],
   "source": [
    "virus = casos.merge(fallecidos,how='outer',on=['fecha','cod_ine','CCAA'])\n",
    "virus = virus.merge(altas,how='outer',on=['fecha','cod_ine','CCAA'])\n",
    "virus = virus.merge(hosp,how='outer',on=['fecha','cod_ine','CCAA'])\n",
    "virus = virus.merge(uci,how='outer',on=['fecha','cod_ine','CCAA'])\n",
    "virus.fillna(0,inplace=True)\n",
    "# virus.head()"
   ]
  },
  {
   "cell_type": "code",
   "execution_count": null,
   "metadata": {
    "ExecuteTime": {
     "end_time": "2020-03-29T20:27:21.777351Z",
     "start_time": "2020-03-29T20:27:21.683725Z"
    }
   },
   "outputs": [],
   "source": [
    "virus.drop(virus[virus['CCAA']=='Total'].index, axis=0,inplace=True)\n",
    "# virus.tail()"
   ]
  },
  {
   "cell_type": "markdown",
   "metadata": {},
   "source": [
    "### add manually latest day"
   ]
  },
  {
   "cell_type": "code",
   "execution_count": null,
   "metadata": {
    "ExecuteTime": {
     "end_time": "2020-03-29T20:27:21.885729Z",
     "start_time": "2020-03-29T20:27:21.779354Z"
    }
   },
   "outputs": [],
   "source": [
    "# virus_new = pd.read_excel('./data/CCAA_nuevos.xlsx',dtype={'cod_ine':'str'},parse_dates=True)\n",
    "# virus_new.drop(columns=['casos/pop','nuevos'],inplace=True)\n",
    "# virus = virus_new.append(virus, ignore_index=True,sort=True)"
   ]
  },
  {
   "cell_type": "code",
   "execution_count": null,
   "metadata": {
    "ExecuteTime": {
     "end_time": "2020-03-29T20:27:21.997925Z",
     "start_time": "2020-03-29T20:27:21.887710Z"
    }
   },
   "outputs": [],
   "source": [
    "# virus.sort_values(['fecha','CCAA']).tail(25)"
   ]
  },
  {
   "cell_type": "markdown",
   "metadata": {},
   "source": [
    "### adjust reporting date"
   ]
  },
  {
   "cell_type": "code",
   "execution_count": null,
   "metadata": {
    "ExecuteTime": {
     "end_time": "2020-03-29T20:27:22.112577Z",
     "start_time": "2020-03-29T20:27:22.002929Z"
    }
   },
   "outputs": [],
   "source": [
    "# adjust date of reporting\n",
    "virus['fecha'] = pd.to_datetime(virus['fecha'])\n",
    "virus['fecha'] = virus['fecha'] - timedelta(days=1)\n",
    "virus['fecha'] = pd.to_datetime(virus['fecha'])\n",
    "# max(virus['fecha'])"
   ]
  },
  {
   "cell_type": "code",
   "execution_count": null,
   "metadata": {
    "ExecuteTime": {
     "end_time": "2020-03-29T20:27:22.221071Z",
     "start_time": "2020-03-29T20:27:22.115560Z"
    }
   },
   "outputs": [],
   "source": [
    "# virus.sort_values(ascending=False, by=['fecha','casos']).head()"
   ]
  },
  {
   "cell_type": "code",
   "execution_count": null,
   "metadata": {
    "ExecuteTime": {
     "end_time": "2020-03-29T20:27:22.331382Z",
     "start_time": "2020-03-29T20:27:22.228065Z"
    }
   },
   "outputs": [],
   "source": [
    "# virus.groupby('fecha')[['casos','fallecidos','altas']].sum().sort_values(ascending=False,by='fecha')"
   ]
  },
  {
   "cell_type": "markdown",
   "metadata": {},
   "source": [
    "### add population"
   ]
  },
  {
   "cell_type": "code",
   "execution_count": null,
   "metadata": {
    "ExecuteTime": {
     "end_time": "2020-03-29T20:27:22.488357Z",
     "start_time": "2020-03-29T20:27:22.336407Z"
    },
    "scrolled": true
   },
   "outputs": [],
   "source": [
    "# https://www.ine.es/jaxiT3/Tabla.htm?t=2853&L=0\n",
    "pop = {\n",
    "'Andalucía': 8414240,\n",
    "'Aragón' : 1319291,\n",
    "'Asturias': 1022800,\n",
    "'Baleares': 1149460,\n",
    "'Canarias': 2153389,\n",
    "'Cantabria': 581078,\n",
    "'Castilla-La Mancha': 2032863,\n",
    "'Castilla y León': 2399548,\n",
    "'Cataluña': 7675217,\n",
    "'Ceuta': 84777,\n",
    "'C. Valenciana': 5003769,\n",
    "'Extremadura': 1067710,\n",
    "'Galicia': 2699499,\n",
    "'Madrid' : 6663394,\n",
    "'Melilla': 86487,\n",
    "'Murcia': 1493898,\n",
    "'Navarra': 654214,\n",
    "'País Vasco': 2207776,\n",
    "'La Rioja': 316798\n",
    "}\n",
    "virus['pop'] = virus['CCAA'].map(pop)\n",
    "# virus[virus['fecha']==max(virus['fecha'])]"
   ]
  },
  {
   "cell_type": "markdown",
   "metadata": {},
   "source": [
    "### add UCI data"
   ]
  },
  {
   "cell_type": "code",
   "execution_count": null,
   "metadata": {
    "ExecuteTime": {
     "end_time": "2020-03-29T20:27:22.622060Z",
     "start_time": "2020-03-29T20:27:22.492361Z"
    }
   },
   "outputs": [],
   "source": [
    "uci_disp = pd.read_csv('./data/datasets-master/COVID 19/ccaa_camas_uci_2017.csv'\n",
    "                       ,dtype={'cod_ine':'str'}).drop(columns=['Públicos','Privados'])\n",
    "uci_disp.rename(columns={'Total':'uci_disp'},inplace=True)\n",
    "# uci_disp"
   ]
  },
  {
   "cell_type": "code",
   "execution_count": null,
   "metadata": {
    "ExecuteTime": {
     "end_time": "2020-03-29T20:27:22.755408Z",
     "start_time": "2020-03-29T20:27:22.624026Z"
    },
    "scrolled": true
   },
   "outputs": [],
   "source": [
    "# http://www.datadista.com\n",
    "# https://datadista.com/coronavirus/camas-uci/\n",
    "# update marzo de 2020\n",
    "uci_disp_upd = pd.DataFrame({'cod_ine':['17','18','19']\n",
    "                              ,'CCAA':['La Rioja','Ceuta','Melilla']\n",
    "                              ,'uci_disp':[22,8,7]})\n",
    "uci_disp = uci_disp.append(uci_disp_upd,ignore_index=True,sort=True)\n",
    "uci_disp.drop(uci_disp[uci_disp['cod_ine']=='21'].index, axis=0, inplace=True)\n",
    "# uci_disp"
   ]
  },
  {
   "cell_type": "code",
   "execution_count": null,
   "metadata": {
    "ExecuteTime": {
     "end_time": "2020-03-29T20:27:22.927066Z",
     "start_time": "2020-03-29T20:27:22.757425Z"
    }
   },
   "outputs": [],
   "source": [
    "virus = virus.merge(uci_disp[['cod_ine','uci_disp']],how='left',on='cod_ine')"
   ]
  },
  {
   "cell_type": "markdown",
   "metadata": {},
   "source": [
    "### compute ratios"
   ]
  },
  {
   "cell_type": "code",
   "execution_count": null,
   "metadata": {
    "ExecuteTime": {
     "end_time": "2020-03-29T20:27:23.289549Z",
     "start_time": "2020-03-29T20:27:22.932023Z"
    }
   },
   "outputs": [],
   "source": [
    "virus['casos/pop'] = virus['casos']/virus['pop']*100000\n",
    "virus['uci/uci_disp'] = virus['uci']/virus['uci_disp']\n",
    "virus = virus[['fecha', 'cod_ine', 'CCAA', 'casos', 'fallecidos','altas','hosp','uci'\n",
    "               ,'uci_disp','pop','casos/pop','uci/uci_disp']]"
   ]
  },
  {
   "cell_type": "markdown",
   "metadata": {},
   "source": [
    "## Latest data"
   ]
  },
  {
   "cell_type": "code",
   "execution_count": null,
   "metadata": {
    "ExecuteTime": {
     "end_time": "2020-03-29T20:27:23.407572Z",
     "start_time": "2020-03-29T20:27:23.298518Z"
    }
   },
   "outputs": [],
   "source": [
    "virus_latest = virus[virus['fecha']==max(virus['fecha'])]\n",
    "# virus_latest"
   ]
  },
  {
   "cell_type": "markdown",
   "metadata": {},
   "source": [
    "# Plot maps"
   ]
  },
  {
   "cell_type": "code",
   "execution_count": null,
   "metadata": {
    "ExecuteTime": {
     "end_time": "2020-03-29T20:27:23.595496Z",
     "start_time": "2020-03-29T20:27:23.410518Z"
    }
   },
   "outputs": [],
   "source": [
    "if not os.path.exists('images'):\n",
    "    os.makedirs('images')"
   ]
  },
  {
   "cell_type": "markdown",
   "metadata": {},
   "source": [
    "### folium 0"
   ]
  },
  {
   "cell_type": "code",
   "execution_count": null,
   "metadata": {
    "ExecuteTime": {
     "end_time": "2020-03-29T20:27:23.765025Z",
     "start_time": "2020-03-29T20:27:23.597479Z"
    }
   },
   "outputs": [],
   "source": [
    "# m = folium.Map([40, -2], zoom_start=5)\n",
    "# m"
   ]
  },
  {
   "cell_type": "code",
   "execution_count": null,
   "metadata": {
    "ExecuteTime": {
     "end_time": "2020-03-29T20:27:23.873106Z",
     "start_time": "2020-03-29T20:27:23.772032Z"
    }
   },
   "outputs": [],
   "source": [
    "# m = folium.Map([40, -2], zoom_start=5)\n",
    "# # mark each station as a point\n",
    "# for index, row in virus.iterrows():\n",
    "#     folium.CircleMarker([row['lat'], row['lon']],\n",
    "#                         radius=5,\n",
    "#                         popup=row.index,\n",
    "#                         fill_color=\"#3db7e4\", # divvy color\n",
    "#                        ).add_to(m)\n",
    "# m"
   ]
  },
  {
   "cell_type": "code",
   "execution_count": null,
   "metadata": {
    "ExecuteTime": {
     "end_time": "2020-03-29T20:27:24.041551Z",
     "start_time": "2020-03-29T20:27:23.877110Z"
    }
   },
   "outputs": [],
   "source": [
    "# m = folium.Map([40, -2], zoom_start=5)\n",
    "# for i in range(0, len(virus_latest)):\n",
    "#     folium.Circle(\n",
    "#         location=[virus_latest.iloc[i]['lat'], virus_latest.iloc[i]['lon']],\n",
    "#         color='orange', \n",
    "#         tooltip =   '<li><bold>Comunidad : '+str(virus_latest.iloc[i]['CCAA'])+\n",
    "#                     '<li><bold>Contagiados : '+str(virus_latest.iloc[i]['TOTAL_INFECTED'])+\n",
    "#                     '<li><bold>Muertos : '+str(virus_latest.iloc[i]['TOTAL_DEATHS']),\n",
    "#         radius=int(virus_latest.iloc[i]['TOTAL_INFECTED'])*20,\n",
    "#         fill_color='orange').add_to(m)\n",
    "# m"
   ]
  },
  {
   "cell_type": "code",
   "execution_count": null,
   "metadata": {
    "ExecuteTime": {
     "end_time": "2020-03-29T20:27:24.239260Z",
     "start_time": "2020-03-29T20:27:24.044554Z"
    }
   },
   "outputs": [],
   "source": [
    "# m = folium.Map([40, -2], zoom_start=5)\n",
    "# for i in range(0,len(virus_def)):\n",
    "#    folium.Circle(\n",
    "#       location=[virus_def.iloc[i]['lat'], virus_def.iloc[i]['lon']],\n",
    "# #       popup=virus_def.iloc[i]['Comunidades'],\n",
    "#       radius=int(virus_def.iloc[i]['TOTAL_DEATHS'])*100,\n",
    "#       color='crimson',\n",
    "#       fill=True,\n",
    "#       fill_color='crimson',\n",
    "#       tooltip =   '<li><bold>Comunidad : '+str(virus_def.iloc[i]['CCAA'])+\n",
    "#       '<li><bold>Contagiados : '+str(virus_def.iloc[i]['TOTAL_INFECTED'])+\n",
    "#       '<li><bold>Muertos : '+str(virus_def.iloc[i]['TOTAL_DEATHS']),\n",
    "#    ).add_to(m)\n",
    "# m"
   ]
  },
  {
   "cell_type": "code",
   "execution_count": null,
   "metadata": {
    "ExecuteTime": {
     "end_time": "2020-03-29T20:27:24.443195Z",
     "start_time": "2020-03-29T20:27:24.240252Z"
    }
   },
   "outputs": [],
   "source": [
    "# virus['TOTAL_INFECTED'].sum()"
   ]
  },
  {
   "cell_type": "markdown",
   "metadata": {},
   "source": [
    "### foliun 1"
   ]
  },
  {
   "cell_type": "code",
   "execution_count": null,
   "metadata": {
    "ExecuteTime": {
     "end_time": "2020-03-29T20:27:24.627902Z",
     "start_time": "2020-03-29T20:27:24.450204Z"
    }
   },
   "outputs": [],
   "source": [
    "# virus_latest.head(1)"
   ]
  },
  {
   "cell_type": "code",
   "execution_count": null,
   "metadata": {
    "ExecuteTime": {
     "end_time": "2020-03-29T20:27:25.136956Z",
     "start_time": "2020-03-29T20:27:24.632906Z"
    }
   },
   "outputs": [],
   "source": [
    "m = folium.Map([40, -2], zoom_start=6)\n",
    "\n",
    "# bins = [i for i in range(0,15000,1000)]\n",
    "\n",
    "folium.Choropleth(\n",
    "    geo_data=ccaa_clean,\n",
    "    name='choropleth',\n",
    "    data=virus_latest,\n",
    "    columns=['cod_ine', 'casos'],\n",
    "    key_on='feature.id',\n",
    "    fill_color='OrRd',\n",
    "#     bins=[float(x) for x in bins],\n",
    "#     reset=True,\n",
    "    fill_opacity=0.8,\n",
    "    line_opacity=0.5,\n",
    "    legend_name='Contagios'\n",
    ").add_to(m)\n",
    "m.save('./images/CCAA_folium_contagios_latest.html')\n",
    "# m"
   ]
  },
  {
   "cell_type": "code",
   "execution_count": null,
   "metadata": {
    "ExecuteTime": {
     "end_time": "2020-03-29T20:27:25.143944Z",
     "start_time": "2020-03-29T20:27:25.138940Z"
    }
   },
   "outputs": [],
   "source": [
    "# virus_latest.head(1)"
   ]
  },
  {
   "cell_type": "code",
   "execution_count": null,
   "metadata": {
    "ExecuteTime": {
     "end_time": "2020-03-29T20:27:25.576631Z",
     "start_time": "2020-03-29T20:27:25.146946Z"
    }
   },
   "outputs": [],
   "source": [
    "m = folium.Map([40, -2], zoom_start=6)\n",
    "\n",
    "# bins = [i for i in range(0,15000,1000)]\n",
    "# for i in range(0,len(virus_latest)):\n",
    "folium.Choropleth(\n",
    "    geo_data=ccaa_clean,\n",
    "\n",
    "    name='choropleth',\n",
    "    data=virus_latest,\n",
    "    columns=['cod_ine', 'casos/pop'],\n",
    "    key_on='feature.id',\n",
    "    fill_color='OrRd',\n",
    "#     bins=[float(x) for x in bins],\n",
    "#     reset=True,\n",
    "    fill_opacity=0.8,\n",
    "    line_opacity=0.5,\n",
    "    legend_name='Contagios per 100.000 habitantes',\n",
    "#         tooltip =  '<li><bold>Comunidad : '+str(virus_latest.iloc[i]['CCAA'])\n",
    "#       '<li><bold>Contagiados : '+str(virus_def.iloc[i]['TOTAL_INFECTED'])+\n",
    "#       '<li><bold>Muertos : '+str(virus_def.iloc[i]['TOTAL_DEATHS']),\n",
    ").add_to(m)\n",
    "# folium.LayerControl().add_to(m)\n",
    "m.save('./images/CCAA_folium_contagios_pop_latest.html')\n",
    "# m"
   ]
  },
  {
   "cell_type": "markdown",
   "metadata": {
    "ExecuteTime": {
     "end_time": "2020-03-25T21:31:59.433895Z",
     "start_time": "2020-03-25T21:31:55.801Z"
    }
   },
   "source": [
    "## plotly express"
   ]
  },
  {
   "cell_type": "markdown",
   "metadata": {
    "ExecuteTime": {
     "end_time": "2020-03-26T20:01:00.816598Z",
     "start_time": "2020-03-26T20:01:00.813589Z"
    }
   },
   "source": [
    "## Latest Scenario for CCAA"
   ]
  },
  {
   "cell_type": "markdown",
   "metadata": {},
   "source": [
    "### Confirmed cases"
   ]
  },
  {
   "cell_type": "code",
   "execution_count": null,
   "metadata": {
    "ExecuteTime": {
     "end_time": "2020-03-29T20:28:06.497868Z",
     "start_time": "2020-03-29T20:27:25.587639Z"
    }
   },
   "outputs": [],
   "source": [
    "fig = px.choropleth(virus_latest, geojson=ccaa_clean, color=\"casos\",\n",
    "                    locations=\"cod_ine\", featureidkey=\"id\",\n",
    "                    projection=\"mercator\",\n",
    "                    color_continuous_scale=\"OrRd\", \n",
    "#                     title='Contagios por CCAA',\n",
    "                    labels={'casos':'Contagios'}\n",
    "                   )\n",
    "                   \n",
    "fig.update_geos(fitbounds=\"locations\", visible=False)\n",
    "fig.update_layout(margin={\"r\":0,\"t\":0,\"l\":0,\"b\":0})\n",
    "fig.write_image('./images/CCAA_contagios_latest.png')\n",
    "plotly.offline.plot(fig, filename='./images/CCAA_contagios_latest.html',auto_open=False)\n",
    "fig.show()"
   ]
  },
  {
   "cell_type": "markdown",
   "metadata": {},
   "source": [
    "### Confirmed cases every 100.000 people"
   ]
  },
  {
   "cell_type": "code",
   "execution_count": null,
   "metadata": {
    "ExecuteTime": {
     "end_time": "2020-03-29T20:28:11.990297Z",
     "start_time": "2020-03-29T20:28:06.501872Z"
    }
   },
   "outputs": [],
   "source": [
    "fig = px.choropleth(virus_latest, geojson=ccaa_clean, color=\"casos/pop\",\n",
    "                    locations=\"cod_ine\", featureidkey=\"id\",\n",
    "                    projection=\"mercator\",\n",
    "                    color_continuous_scale=\"OrRd\", \n",
    "#                     title='Contagios por CCAA',\n",
    "                    labels={'casos/pop':'Contagios por 100.000 habitantes'}\n",
    "                   )\n",
    "                   \n",
    "fig.update_geos(fitbounds=\"locations\", visible=False)\n",
    "fig.update_layout(margin={\"r\":0,\"t\":0,\"l\":0,\"b\":0})\n",
    "fig.write_image('./images/CCAA_contagios_pop_latest.png')\n",
    "plotly.offline.plot(fig, filename='./images/CCAA_contagios_pop_latest.html',auto_open=False)\n",
    "fig.show()"
   ]
  },
  {
   "cell_type": "markdown",
   "metadata": {},
   "source": [
    "### Confirmed cases treated in Intensive Care Unit (ICU) over number of ICU available in 2017"
   ]
  },
  {
   "cell_type": "code",
   "execution_count": null,
   "metadata": {
    "ExecuteTime": {
     "end_time": "2020-03-29T20:28:18.228406Z",
     "start_time": "2020-03-29T20:28:11.997302Z"
    }
   },
   "outputs": [],
   "source": [
    "fig = px.choropleth(virus_latest, geojson=ccaa_clean, color=\"uci/uci_disp\",\n",
    "                    locations=\"cod_ine\", featureidkey=\"id\",\n",
    "                    projection=\"mercator\",\n",
    "                    color_continuous_scale=\"OrRd\", \n",
    "#                     title='Contagios por CCAA',\n",
    "                    labels={'uci/uci_disp':'Personas en UCI sb. UCI disponibles (2017)'}\n",
    "                   )\n",
    "                   \n",
    "fig.update_geos(fitbounds=\"locations\", visible=False)\n",
    "fig.update_layout(margin={\"r\":0,\"t\":0,\"l\":0,\"b\":0})\n",
    "fig.write_image('./images/CCAA_uci_uci_disp_latest.png')\n",
    "plotly.offline.plot(fig, filename='./images/CCAA_uci_uci_disp_latest.html',auto_open=False)\n",
    "# fig.show()"
   ]
  },
  {
   "cell_type": "markdown",
   "metadata": {},
   "source": [
    "## Evolution for CCAA"
   ]
  },
  {
   "cell_type": "markdown",
   "metadata": {
    "ExecuteTime": {
     "end_time": "2020-03-29T20:28:18.233410Z",
     "start_time": "2020-03-29T20:28:18.230407Z"
    }
   },
   "source": [
    "### Evolution over time of confirmed cases"
   ]
  },
  {
   "cell_type": "code",
   "execution_count": null,
   "metadata": {
    "ExecuteTime": {
     "end_time": "2020-03-29T20:29:14.959802Z",
     "start_time": "2020-03-29T20:28:18.234412Z"
    }
   },
   "outputs": [],
   "source": [
    "virus_temp = virus\n",
    "virus_temp['fecha'] = pd.to_datetime(virus_temp['fecha'])\n",
    "virus_temp['fecha'] = virus_temp['fecha'].dt.strftime('%m/%d/%Y')\n",
    "virus_temp.sort_values(by='fecha',inplace=True)\n",
    "fig = px.choropleth(virus_temp, geojson=ccaa_clean, color=\"casos\",\n",
    "                    locations=\"cod_ine\", featureidkey=\"id\",\n",
    "                    projection=\"mercator\",\n",
    "                    color_continuous_scale=\"OrRd\", \n",
    "#                     title='Contagios por CCAA',\n",
    "                    animation_frame='fecha',\n",
    "                    range_color= [0, max(virus_temp['casos'])]\n",
    "                    , labels={'casos':'Contagios','fecha':'Fecha'})\n",
    "                   \n",
    "                   \n",
    "fig.update_geos(fitbounds=\"locations\", visible=False)\n",
    "fig.update_layout(margin={\"r\":0,\"t\":0,\"l\":0,\"b\":0})\n",
    "plotly.offline.plot(fig, filename='./images/CCAA_contagios_evol.html',auto_open=False)\n",
    "# fig.show()"
   ]
  },
  {
   "cell_type": "markdown",
   "metadata": {},
   "source": [
    "### Evolution over time of confirmed cases every 100.000 people"
   ]
  },
  {
   "cell_type": "code",
   "execution_count": null,
   "metadata": {
    "ExecuteTime": {
     "end_time": "2020-03-29T20:30:07.146647Z",
     "start_time": "2020-03-29T20:29:14.961803Z"
    }
   },
   "outputs": [],
   "source": [
    "virus_temp = virus\n",
    "virus_temp['fecha'] = pd.to_datetime(virus_temp['fecha'])\n",
    "virus_temp['fecha'] = virus_temp['fecha'].dt.strftime('%m/%d/%Y')\n",
    "virus_temp.sort_values(by='fecha',inplace=True)\n",
    "fig = px.choropleth(virus_temp, geojson=ccaa_clean, color=\"casos/pop\",\n",
    "                    locations=\"cod_ine\", featureidkey=\"id\",\n",
    "                    projection=\"mercator\",\n",
    "                    color_continuous_scale=\"OrRd\", \n",
    "                    title='Contagios por CCAA',\n",
    "                    animation_frame='fecha',\n",
    "                    range_color= [0, max(virus_temp['casos/pop'])]\n",
    "                    , labels={'casos/pop':'Contagios por 100.000 habitantes','fecha':'Fecha'},)\n",
    "                   \n",
    "                   \n",
    "fig.update_geos(fitbounds=\"locations\", visible=False)\n",
    "fig.update_layout(margin={\"r\":0,\"t\":0,\"l\":0,\"b\":0})\n",
    "plotly.offline.plot(fig, filename='./images/CCAA_contagios_pop_evol.html',auto_open=False)\n",
    "# fig.show()"
   ]
  },
  {
   "cell_type": "markdown",
   "metadata": {},
   "source": [
    "### Evolution over time of confirmed cases treated in Intensive Care Unit (ICU) over number of ICU available in 2017"
   ]
  },
  {
   "cell_type": "code",
   "execution_count": null,
   "metadata": {
    "ExecuteTime": {
     "end_time": "2020-03-29T20:31:39.595562Z",
     "start_time": "2020-03-29T20:30:07.149650Z"
    }
   },
   "outputs": [],
   "source": [
    "virus_temp = virus\n",
    "virus_temp['fecha'] = pd.to_datetime(virus_temp['fecha'])\n",
    "virus_temp['fecha'] = virus_temp['fecha'].dt.strftime('%m/%d/%Y')\n",
    "virus_temp.sort_values(by='fecha',inplace=True)\n",
    "fig = px.choropleth(virus_temp, geojson=ccaa_clean, color=\"uci/uci_disp\",\n",
    "                    locations=\"cod_ine\", featureidkey=\"id\",\n",
    "                    projection=\"mercator\",\n",
    "                    color_continuous_scale=\"OrRd\", \n",
    "                    title='Contagios por CCAA',\n",
    "                    animation_frame='fecha',\n",
    "                    range_color= [0, max(virus_temp['uci/uci_disp'])]\n",
    "                    , labels={'uci/uci_disp':'Personas en UCI sb. UCI disponibles (2017)','fecha':'Fecha'},)\n",
    "                   \n",
    "                   \n",
    "fig.update_geos(fitbounds=\"locations\", visible=False)\n",
    "fig.update_layout(margin={\"r\":0,\"t\":0,\"l\":0,\"b\":0})\n",
    "plotly.offline.plot(fig, filename='./images/CCAA_uci_disp_evol.html',auto_open=False)\n",
    "fig.show()"
   ]
  },
  {
   "cell_type": "code",
   "execution_count": null,
   "metadata": {},
   "outputs": [],
   "source": []
  },
  {
   "cell_type": "code",
   "execution_count": null,
   "metadata": {},
   "outputs": [],
   "source": []
  },
  {
   "cell_type": "code",
   "execution_count": null,
   "metadata": {},
   "outputs": [],
   "source": []
  },
  {
   "cell_type": "code",
   "execution_count": null,
   "metadata": {},
   "outputs": [],
   "source": []
  },
  {
   "cell_type": "code",
   "execution_count": null,
   "metadata": {},
   "outputs": [],
   "source": []
  },
  {
   "cell_type": "code",
   "execution_count": null,
   "metadata": {},
   "outputs": [],
   "source": []
  },
  {
   "cell_type": "code",
   "execution_count": null,
   "metadata": {},
   "outputs": [],
   "source": []
  }
 ],
 "metadata": {
  "kernelspec": {
   "display_name": "Python 3",
   "language": "python",
   "name": "python3"
  },
  "language_info": {
   "codemirror_mode": {
    "name": "ipython",
    "version": 3
   },
   "file_extension": ".py",
   "mimetype": "text/x-python",
   "name": "python",
   "nbconvert_exporter": "python",
   "pygments_lexer": "ipython3",
   "version": "3.8.1"
  },
  "toc": {
   "base_numbering": 1,
   "nav_menu": {},
   "number_sections": true,
   "sideBar": true,
   "skip_h1_title": false,
   "title_cell": "Table of Contents",
   "title_sidebar": "Contents",
   "toc_cell": false,
   "toc_position": {
    "height": "calc(100% - 180px)",
    "left": "10px",
    "top": "150px",
    "width": "349px"
   },
   "toc_section_display": true,
   "toc_window_display": true
  },
  "varInspector": {
   "cols": {
    "lenName": 16,
    "lenType": 16,
    "lenVar": 40
   },
   "kernels_config": {
    "python": {
     "delete_cmd_postfix": "",
     "delete_cmd_prefix": "del ",
     "library": "var_list.py",
     "varRefreshCmd": "print(var_dic_list())"
    },
    "r": {
     "delete_cmd_postfix": ") ",
     "delete_cmd_prefix": "rm(",
     "library": "var_list.r",
     "varRefreshCmd": "cat(var_dic_list()) "
    }
   },
   "types_to_exclude": [
    "module",
    "function",
    "builtin_function_or_method",
    "instance",
    "_Feature"
   ],
   "window_display": false
  }
 },
 "nbformat": 4,
 "nbformat_minor": 4
}
