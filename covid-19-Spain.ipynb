{
 "cells": [
  {
   "cell_type": "markdown",
   "metadata": {},
   "source": [
    "# Installations"
   ]
  },
  {
   "cell_type": "code",
   "execution_count": null,
   "metadata": {
    "ExecuteTime": {
     "end_time": "2020-03-29T17:49:25.879411Z",
     "start_time": "2020-03-29T17:49:25.875407Z"
    }
   },
   "outputs": [],
   "source": [
    "# !pip install  \"G:/16860/DM_BIGDATA/DM_Digital_y_CJ/Utilidades/Python/Packages/utm-0.5.0.tar.gz\""
   ]
  },
  {
   "cell_type": "code",
   "execution_count": null,
   "metadata": {
    "ExecuteTime": {
     "end_time": "2020-03-29T17:49:26.408901Z",
     "start_time": "2020-03-29T17:49:25.889417Z"
    }
   },
   "outputs": [],
   "source": [
    "# !pip install \"branca-0.4.0.tar.gz\""
   ]
  },
  {
   "cell_type": "code",
   "execution_count": null,
   "metadata": {
    "ExecuteTime": {
     "end_time": "2020-03-29T17:49:26.785716Z",
     "start_time": "2020-03-29T17:49:26.410900Z"
    }
   },
   "outputs": [],
   "source": [
    "# !pip install \"folium-0.10.1.tar.gz\""
   ]
  },
  {
   "cell_type": "markdown",
   "metadata": {},
   "source": [
    "# Import Packages"
   ]
  },
  {
   "cell_type": "code",
   "execution_count": null,
   "metadata": {
    "ExecuteTime": {
     "end_time": "2020-03-29T17:49:35.431037Z",
     "start_time": "2020-03-29T17:49:26.789717Z"
    }
   },
   "outputs": [],
   "source": [
    "import folium\n",
    "from folium import plugins\n",
    "from folium.plugins import TimeSliderChoropleth\n",
    "import pandas as pd\n",
    "import json\n",
    "import os\n",
    "from zipfile import ZipFile\n",
    "from datetime import timedelta\n",
    "import plotly.express as px\n",
    "import plotly.offline"
   ]
  },
  {
   "cell_type": "markdown",
   "metadata": {},
   "source": [
    "# Import Data"
   ]
  },
  {
   "cell_type": "markdown",
   "metadata": {},
   "source": [
    "## Import Geo"
   ]
  },
  {
   "cell_type": "code",
   "execution_count": null,
   "metadata": {
    "ExecuteTime": {
     "end_time": "2020-03-29T17:49:35.543819Z",
     "start_time": "2020-03-29T17:49:35.433985Z"
    }
   },
   "outputs": [],
   "source": [
    "with open('./data/comunidades-autonomas-espanolas.json') as f:\n",
    "  ccaa = json.load(f)"
   ]
  },
  {
   "cell_type": "code",
   "execution_count": null,
   "metadata": {
    "ExecuteTime": {
     "end_time": "2020-03-29T17:49:35.676506Z",
     "start_time": "2020-03-29T17:49:35.546765Z"
    }
   },
   "outputs": [],
   "source": [
    "ccaa_clean = {'type': 'FeatureCollection'\n",
    "             ,'features':[{'type':'Feature'\n",
    "                  ,'id':ccaa[i]['fields']['codigo']\n",
    "                  ,'properties':{'name':ccaa[i]['fields']['texto']}\n",
    "                 , 'geometry':{'type':ccaa[i]['fields']['geo_shape']['type']\n",
    "                              , 'coordinates':ccaa[i]['fields']['geo_shape']['coordinates']}}\n",
    "            for i in range(0,19)]\n",
    "             }"
   ]
  },
  {
   "cell_type": "code",
   "execution_count": null,
   "metadata": {
    "ExecuteTime": {
     "end_time": "2020-03-29T17:49:35.819074Z",
     "start_time": "2020-03-29T17:49:35.682507Z"
    }
   },
   "outputs": [],
   "source": [
    "# for i in range(0,19):\n",
    "#     print(ccaa_clean['features']"
   ]
  },
  {
   "cell_type": "code",
   "execution_count": null,
   "metadata": {
    "ExecuteTime": {
     "end_time": "2020-03-29T17:49:36.040613Z",
     "start_time": "2020-03-29T17:49:35.825072Z"
    }
   },
   "outputs": [],
   "source": [
    "# ccaa_clean['features'][0]"
   ]
  },
  {
   "cell_type": "markdown",
   "metadata": {},
   "source": [
    "## Import Contagion Data"
   ]
  },
  {
   "cell_type": "code",
   "execution_count": null,
   "metadata": {
    "ExecuteTime": {
     "end_time": "2020-03-29T17:49:36.316856Z",
     "start_time": "2020-03-29T17:49:36.046617Z"
    }
   },
   "outputs": [],
   "source": [
    "# virus = pd.read_excel('./data/COVID_19_SPAIN_OFFICIAL_DATA.xlsx')"
   ]
  },
  {
   "cell_type": "code",
   "execution_count": null,
   "metadata": {
    "ExecuteTime": {
     "end_time": "2020-03-29T17:49:36.486080Z",
     "start_time": "2020-03-29T17:49:36.321860Z"
    }
   },
   "outputs": [],
   "source": [
    "# https://github.com/datadista/datasets/tree/master/COVID%2019"
   ]
  },
  {
   "cell_type": "code",
   "execution_count": null,
   "metadata": {
    "ExecuteTime": {
     "end_time": "2020-03-29T17:49:37.479148Z",
     "start_time": "2020-03-29T17:49:36.492086Z"
    }
   },
   "outputs": [],
   "source": [
    "# Create a ZipFile Object and load sample.zip in it\n",
    "with ZipFile('./data/datasets-master.zip', 'r') as zipObj:\n",
    "   # Extract all the contents of zip file in different directory\n",
    "   zipObj.extractall('data')"
   ]
  },
  {
   "cell_type": "code",
   "execution_count": null,
   "metadata": {
    "ExecuteTime": {
     "end_time": "2020-03-29T17:49:37.520120Z",
     "start_time": "2020-03-29T17:49:37.481091Z"
    }
   },
   "outputs": [],
   "source": [
    "casos = pd.read_csv('./data/datasets-master/COVID 19/ccaa_covid19_casos_long.csv'\n",
    "                    ,dtype={'cod_ine':'str'},parse_dates=True)\n",
    "altas = pd.read_csv('./data/datasets-master/COVID 19/ccaa_covid19_altas_long.csv'\n",
    "                    ,dtype={'cod_ine':'str'},parse_dates=True)\n",
    "fallecidos = pd.read_csv('./data/datasets-master/COVID 19/ccaa_covid19_fallecidos_long.csv'\n",
    "                         ,dtype={'cod_ine':'str'},parse_dates=True)\n",
    "hosp = pd.read_csv('./data/datasets-master/COVID 19/ccaa_covid19_hospitalizados_long.csv'\n",
    "                   ,dtype={'cod_ine':'str'},parse_dates=True)\n",
    "uci = pd.read_csv('./data/datasets-master/COVID 19/ccaa_covid19_uci_long.csv'\n",
    "                  ,dtype={'cod_ine':'str'},parse_dates=True)"
   ]
  },
  {
   "cell_type": "code",
   "execution_count": null,
   "metadata": {
    "ExecuteTime": {
     "end_time": "2020-03-29T17:49:38.276733Z",
     "start_time": "2020-03-29T17:49:37.522120Z"
    }
   },
   "outputs": [],
   "source": [
    "casos.rename(columns={'total':'casos'},inplace=True)\n",
    "altas.rename(columns={'total':'altas'},inplace=True)\n",
    "fallecidos.rename(columns={'total':'fallecidos'},inplace=True)\n",
    "hosp.rename(columns={'total':'hosp'},inplace=True)\n",
    "uci.rename(columns={'total':'uci'},inplace=True)"
   ]
  },
  {
   "cell_type": "code",
   "execution_count": null,
   "metadata": {
    "ExecuteTime": {
     "end_time": "2020-03-29T17:49:38.628492Z",
     "start_time": "2020-03-29T17:49:38.282684Z"
    }
   },
   "outputs": [],
   "source": [
    "# max(casos['fecha'])"
   ]
  },
  {
   "cell_type": "markdown",
   "metadata": {},
   "source": [
    "### merge partials"
   ]
  },
  {
   "cell_type": "code",
   "execution_count": null,
   "metadata": {
    "ExecuteTime": {
     "end_time": "2020-03-29T17:49:39.091135Z",
     "start_time": "2020-03-29T17:49:38.635499Z"
    }
   },
   "outputs": [],
   "source": [
    "virus = casos.merge(fallecidos,how='outer',on=['fecha','cod_ine','CCAA'])\n",
    "virus = virus.merge(altas,how='outer',on=['fecha','cod_ine','CCAA'])\n",
    "virus = virus.merge(hosp,how='outer',on=['fecha','cod_ine','CCAA'])\n",
    "virus = virus.merge(uci,how='outer',on=['fecha','cod_ine','CCAA'])\n",
    "virus.fillna(0,inplace=True)\n",
    "# virus.head()"
   ]
  },
  {
   "cell_type": "code",
   "execution_count": null,
   "metadata": {
    "ExecuteTime": {
     "end_time": "2020-03-29T17:49:39.444462Z",
     "start_time": "2020-03-29T17:49:39.093082Z"
    }
   },
   "outputs": [],
   "source": [
    "virus.drop(virus[virus['CCAA']=='Total'].index, axis=0,inplace=True)\n",
    "# virus.tail()"
   ]
  },
  {
   "cell_type": "markdown",
   "metadata": {},
   "source": [
    "### add manually latest day"
   ]
  },
  {
   "cell_type": "code",
   "execution_count": null,
   "metadata": {
    "ExecuteTime": {
     "end_time": "2020-03-29T17:49:39.660573Z",
     "start_time": "2020-03-29T17:49:39.449428Z"
    }
   },
   "outputs": [],
   "source": [
    "# virus_new = pd.read_excel('./data/CCAA_nuevos.xlsx',dtype={'cod_ine':'str'},parse_dates=True)\n",
    "# virus_new.drop(columns=['casos/pop','nuevos'],inplace=True)\n",
    "# virus = virus_new.append(virus, ignore_index=True,sort=True)"
   ]
  },
  {
   "cell_type": "code",
   "execution_count": null,
   "metadata": {
    "ExecuteTime": {
     "end_time": "2020-03-29T17:49:39.936631Z",
     "start_time": "2020-03-29T17:49:39.667571Z"
    }
   },
   "outputs": [],
   "source": [
    "# virus.sort_values(['fecha','CCAA']).tail(25)"
   ]
  },
  {
   "cell_type": "markdown",
   "metadata": {},
   "source": [
    "### adjust reporting date"
   ]
  },
  {
   "cell_type": "code",
   "execution_count": null,
   "metadata": {
    "ExecuteTime": {
     "end_time": "2020-03-29T17:49:40.149582Z",
     "start_time": "2020-03-29T17:49:39.943637Z"
    }
   },
   "outputs": [],
   "source": [
    "# adjust date of reporting\n",
    "virus['fecha'] = pd.to_datetime(virus['fecha'])\n",
    "virus['fecha'] = virus['fecha'] - timedelta(days=1)\n",
    "virus['fecha'] = pd.to_datetime(virus['fecha'])\n",
    "# max(virus['fecha'])"
   ]
  },
  {
   "cell_type": "code",
   "execution_count": null,
   "metadata": {
    "ExecuteTime": {
     "end_time": "2020-03-29T17:49:40.401450Z",
     "start_time": "2020-03-29T17:49:40.155594Z"
    }
   },
   "outputs": [],
   "source": [
    "# virus.sort_values(ascending=False, by=['fecha','casos']).head()"
   ]
  },
  {
   "cell_type": "code",
   "execution_count": null,
   "metadata": {
    "ExecuteTime": {
     "end_time": "2020-03-29T17:49:40.582572Z",
     "start_time": "2020-03-29T17:49:40.403397Z"
    }
   },
   "outputs": [],
   "source": [
    "# virus.groupby('fecha')[['casos','fallecidos','altas']].sum().sort_values(ascending=False,by='fecha')"
   ]
  },
  {
   "cell_type": "markdown",
   "metadata": {},
   "source": [
    "### add population"
   ]
  },
  {
   "cell_type": "code",
   "execution_count": null,
   "metadata": {
    "ExecuteTime": {
     "end_time": "2020-03-29T17:49:41.105939Z",
     "start_time": "2020-03-29T17:49:40.588603Z"
    },
    "scrolled": true
   },
   "outputs": [],
   "source": [
    "# https://www.ine.es/jaxiT3/Tabla.htm?t=2853&L=0\n",
    "pop = {\n",
    "'Andalucía': 8414240,\n",
    "'Aragón' : 1319291,\n",
    "'Asturias': 1022800,\n",
    "'Baleares': 1149460,\n",
    "'Canarias': 2153389,\n",
    "'Cantabria': 581078,\n",
    "'Castilla-La Mancha': 2032863,\n",
    "'Castilla y León': 2399548,\n",
    "'Cataluña': 7675217,\n",
    "'Ceuta': 84777,\n",
    "'C. Valenciana': 5003769,\n",
    "'Extremadura': 1067710,\n",
    "'Galicia': 2699499,\n",
    "'Madrid' : 6663394,\n",
    "'Melilla': 86487,\n",
    "'Murcia': 1493898,\n",
    "'Navarra': 654214,\n",
    "'País Vasco': 2207776,\n",
    "'La Rioja': 316798\n",
    "}\n",
    "virus['pop'] = virus['CCAA'].map(pop)\n",
    "# virus[virus['fecha']==max(virus['fecha'])]"
   ]
  },
  {
   "cell_type": "markdown",
   "metadata": {},
   "source": [
    "### add UCI data"
   ]
  },
  {
   "cell_type": "code",
   "execution_count": null,
   "metadata": {
    "ExecuteTime": {
     "end_time": "2020-03-29T17:49:41.333723Z",
     "start_time": "2020-03-29T17:49:41.107938Z"
    }
   },
   "outputs": [],
   "source": [
    "uci_disp = pd.read_csv('./data/datasets-master/COVID 19/ccaa_camas_uci_2017.csv'\n",
    "                       ,dtype={'cod_ine':'str'}).drop(columns=['Públicos','Privados'])\n",
    "uci_disp.rename(columns={'Total':'uci_disp'},inplace=True)\n",
    "# uci_disp"
   ]
  },
  {
   "cell_type": "code",
   "execution_count": null,
   "metadata": {
    "ExecuteTime": {
     "end_time": "2020-03-29T17:49:41.540244Z",
     "start_time": "2020-03-29T17:49:41.347729Z"
    },
    "scrolled": true
   },
   "outputs": [],
   "source": [
    "# http://www.datadista.com\n",
    "# https://datadista.com/coronavirus/camas-uci/\n",
    "# update marzo de 2020\n",
    "uci_disp_upd = pd.DataFrame({'cod_ine':['17','18','19']\n",
    "                              ,'CCAA':['La Rioja','Ceuta','Melilla']\n",
    "                              ,'uci_disp':[22,8,7]})\n",
    "uci_disp = uci_disp.append(uci_disp_upd,ignore_index=True,sort=True)\n",
    "uci_disp.drop(uci_disp[uci_disp['cod_ine']=='21'].index, axis=0, inplace=True)\n",
    "# uci_disp"
   ]
  },
  {
   "cell_type": "code",
   "execution_count": null,
   "metadata": {
    "ExecuteTime": {
     "end_time": "2020-03-29T17:49:41.834101Z",
     "start_time": "2020-03-29T17:49:41.543226Z"
    }
   },
   "outputs": [],
   "source": [
    "virus = virus.merge(uci_disp[['cod_ine','uci_disp']],how='left',on='cod_ine')"
   ]
  },
  {
   "cell_type": "markdown",
   "metadata": {},
   "source": [
    "### compute ratios"
   ]
  },
  {
   "cell_type": "code",
   "execution_count": null,
   "metadata": {
    "ExecuteTime": {
     "end_time": "2020-03-29T17:49:42.383206Z",
     "start_time": "2020-03-29T17:49:41.840076Z"
    }
   },
   "outputs": [],
   "source": [
    "virus['casos/pop'] = virus['casos']/virus['pop']*100000\n",
    "virus['uci/uci_disp'] = virus['uci']/virus['uci_disp']\n",
    "virus = virus[['fecha', 'cod_ine', 'CCAA', 'casos', 'fallecidos','altas','hosp','uci'\n",
    "               ,'uci_disp','pop','casos/pop','uci/uci_disp']]"
   ]
  },
  {
   "cell_type": "markdown",
   "metadata": {},
   "source": [
    "## Latest data"
   ]
  },
  {
   "cell_type": "code",
   "execution_count": null,
   "metadata": {
    "ExecuteTime": {
     "end_time": "2020-03-29T17:49:42.497760Z",
     "start_time": "2020-03-29T17:49:42.389151Z"
    }
   },
   "outputs": [],
   "source": [
    "virus_latest = virus[virus['fecha']==max(virus['fecha'])]\n",
    "# virus_latest"
   ]
  },
  {
   "cell_type": "markdown",
   "metadata": {},
   "source": [
    "# Plot maps"
   ]
  },
  {
   "cell_type": "code",
   "execution_count": null,
   "metadata": {
    "ExecuteTime": {
     "end_time": "2020-03-29T17:49:42.755172Z",
     "start_time": "2020-03-29T17:49:42.503740Z"
    }
   },
   "outputs": [],
   "source": [
    "if not os.path.exists('images'):\n",
    "    os.makedirs('images')"
   ]
  },
  {
   "cell_type": "markdown",
   "metadata": {},
   "source": [
    "### folium 0"
   ]
  },
  {
   "cell_type": "code",
   "execution_count": null,
   "metadata": {
    "ExecuteTime": {
     "end_time": "2020-03-29T17:49:42.927799Z",
     "start_time": "2020-03-29T17:49:42.761205Z"
    }
   },
   "outputs": [],
   "source": [
    "# m = folium.Map([40, -2], zoom_start=5)\n",
    "# m"
   ]
  },
  {
   "cell_type": "code",
   "execution_count": null,
   "metadata": {
    "ExecuteTime": {
     "end_time": "2020-03-29T17:49:43.207637Z",
     "start_time": "2020-03-29T17:49:42.933802Z"
    }
   },
   "outputs": [],
   "source": [
    "# m = folium.Map([40, -2], zoom_start=5)\n",
    "# # mark each station as a point\n",
    "# for index, row in virus.iterrows():\n",
    "#     folium.CircleMarker([row['lat'], row['lon']],\n",
    "#                         radius=5,\n",
    "#                         popup=row.index,\n",
    "#                         fill_color=\"#3db7e4\", # divvy color\n",
    "#                        ).add_to(m)\n",
    "# m"
   ]
  },
  {
   "cell_type": "code",
   "execution_count": null,
   "metadata": {
    "ExecuteTime": {
     "end_time": "2020-03-29T17:49:43.366659Z",
     "start_time": "2020-03-29T17:49:43.215637Z"
    }
   },
   "outputs": [],
   "source": [
    "# m = folium.Map([40, -2], zoom_start=5)\n",
    "# for i in range(0, len(virus_latest)):\n",
    "#     folium.Circle(\n",
    "#         location=[virus_latest.iloc[i]['lat'], virus_latest.iloc[i]['lon']],\n",
    "#         color='orange', \n",
    "#         tooltip =   '<li><bold>Comunidad : '+str(virus_latest.iloc[i]['CCAA'])+\n",
    "#                     '<li><bold>Contagiados : '+str(virus_latest.iloc[i]['TOTAL_INFECTED'])+\n",
    "#                     '<li><bold>Muertos : '+str(virus_latest.iloc[i]['TOTAL_DEATHS']),\n",
    "#         radius=int(virus_latest.iloc[i]['TOTAL_INFECTED'])*20,\n",
    "#         fill_color='orange').add_to(m)\n",
    "# m"
   ]
  },
  {
   "cell_type": "code",
   "execution_count": null,
   "metadata": {
    "ExecuteTime": {
     "end_time": "2020-03-29T17:49:43.597976Z",
     "start_time": "2020-03-29T17:49:43.372662Z"
    }
   },
   "outputs": [],
   "source": [
    "# m = folium.Map([40, -2], zoom_start=5)\n",
    "# for i in range(0,len(virus_def)):\n",
    "#    folium.Circle(\n",
    "#       location=[virus_def.iloc[i]['lat'], virus_def.iloc[i]['lon']],\n",
    "# #       popup=virus_def.iloc[i]['Comunidades'],\n",
    "#       radius=int(virus_def.iloc[i]['TOTAL_DEATHS'])*100,\n",
    "#       color='crimson',\n",
    "#       fill=True,\n",
    "#       fill_color='crimson',\n",
    "#       tooltip =   '<li><bold>Comunidad : '+str(virus_def.iloc[i]['CCAA'])+\n",
    "#       '<li><bold>Contagiados : '+str(virus_def.iloc[i]['TOTAL_INFECTED'])+\n",
    "#       '<li><bold>Muertos : '+str(virus_def.iloc[i]['TOTAL_DEATHS']),\n",
    "#    ).add_to(m)\n",
    "# m"
   ]
  },
  {
   "cell_type": "code",
   "execution_count": null,
   "metadata": {
    "ExecuteTime": {
     "end_time": "2020-03-29T17:49:43.748644Z",
     "start_time": "2020-03-29T17:49:43.603975Z"
    }
   },
   "outputs": [],
   "source": [
    "# virus['TOTAL_INFECTED'].sum()"
   ]
  },
  {
   "cell_type": "markdown",
   "metadata": {},
   "source": [
    "### foliun 1"
   ]
  },
  {
   "cell_type": "code",
   "execution_count": null,
   "metadata": {
    "ExecuteTime": {
     "end_time": "2020-03-29T17:49:43.944770Z",
     "start_time": "2020-03-29T17:49:43.750646Z"
    }
   },
   "outputs": [],
   "source": [
    "# virus_latest.head(1)"
   ]
  },
  {
   "cell_type": "code",
   "execution_count": null,
   "metadata": {
    "ExecuteTime": {
     "end_time": "2020-03-29T17:49:44.625701Z",
     "start_time": "2020-03-29T17:49:43.950745Z"
    }
   },
   "outputs": [],
   "source": [
    "m = folium.Map([40, -2], zoom_start=6)\n",
    "\n",
    "# bins = [i for i in range(0,15000,1000)]\n",
    "\n",
    "folium.Choropleth(\n",
    "    geo_data=ccaa_clean,\n",
    "    name='choropleth',\n",
    "    data=virus_latest,\n",
    "    columns=['cod_ine', 'casos'],\n",
    "    key_on='feature.id',\n",
    "    fill_color='OrRd',\n",
    "#     bins=[float(x) for x in bins],\n",
    "#     reset=True,\n",
    "    fill_opacity=0.8,\n",
    "    line_opacity=0.5,\n",
    "    legend_name='Contagios'\n",
    ").add_to(m)\n",
    "m.save('./images/CCAA_folium_contagios_latest.html')\n",
    "# m"
   ]
  },
  {
   "cell_type": "code",
   "execution_count": null,
   "metadata": {
    "ExecuteTime": {
     "end_time": "2020-03-29T17:49:44.632654Z",
     "start_time": "2020-03-29T17:49:44.627649Z"
    }
   },
   "outputs": [],
   "source": [
    "# virus_latest.head(1)"
   ]
  },
  {
   "cell_type": "code",
   "execution_count": null,
   "metadata": {
    "ExecuteTime": {
     "end_time": "2020-03-29T17:49:45.114123Z",
     "start_time": "2020-03-29T17:49:44.634652Z"
    }
   },
   "outputs": [],
   "source": [
    "m = folium.Map([40, -2], zoom_start=6)\n",
    "\n",
    "# bins = [i for i in range(0,15000,1000)]\n",
    "# for i in range(0,len(virus_latest)):\n",
    "folium.Choropleth(\n",
    "    geo_data=ccaa_clean,\n",
    "\n",
    "    name='choropleth',\n",
    "    data=virus_latest,\n",
    "    columns=['cod_ine', 'casos/pop'],\n",
    "    key_on='feature.id',\n",
    "    fill_color='OrRd',\n",
    "#     bins=[float(x) for x in bins],\n",
    "#     reset=True,\n",
    "    fill_opacity=0.8,\n",
    "    line_opacity=0.5,\n",
    "    legend_name='Contagios per 100.000 habitantes',\n",
    "#         tooltip =  '<li><bold>Comunidad : '+str(virus_latest.iloc[i]['CCAA'])\n",
    "#       '<li><bold>Contagiados : '+str(virus_def.iloc[i]['TOTAL_INFECTED'])+\n",
    "#       '<li><bold>Muertos : '+str(virus_def.iloc[i]['TOTAL_DEATHS']),\n",
    ").add_to(m)\n",
    "# folium.LayerControl().add_to(m)\n",
    "m.save('./images/CCAA_folium_contagios_pop_latest.html')\n",
    "# m"
   ]
  },
  {
   "cell_type": "markdown",
   "metadata": {
    "ExecuteTime": {
     "end_time": "2020-03-25T21:31:59.433895Z",
     "start_time": "2020-03-25T21:31:55.801Z"
    }
   },
   "source": [
    "## plotly express"
   ]
  },
  {
   "cell_type": "code",
   "execution_count": null,
   "metadata": {
    "ExecuteTime": {
     "end_time": "2020-03-29T17:49:45.119070Z",
     "start_time": "2020-03-29T17:49:45.116067Z"
    }
   },
   "outputs": [],
   "source": [
    "# virus_latest.head()"
   ]
  },
  {
   "cell_type": "markdown",
   "metadata": {
    "ExecuteTime": {
     "end_time": "2020-03-26T20:01:00.816598Z",
     "start_time": "2020-03-26T20:01:00.813589Z"
    }
   },
   "source": [
    "## Latest Scenario"
   ]
  },
  {
   "cell_type": "code",
   "execution_count": null,
   "metadata": {
    "ExecuteTime": {
     "end_time": "2020-03-29T17:50:21.520409Z",
     "start_time": "2020-03-29T17:49:45.121071Z"
    }
   },
   "outputs": [],
   "source": [
    "fig = px.choropleth(virus_latest, geojson=ccaa_clean, color=\"casos\",\n",
    "                    locations=\"cod_ine\", featureidkey=\"id\",\n",
    "                    projection=\"mercator\",\n",
    "                    color_continuous_scale=\"OrRd\", \n",
    "#                     title='Contagios por CCAA',\n",
    "                    labels={'casos':'Contagios'}\n",
    "                   )\n",
    "                   \n",
    "fig.update_geos(fitbounds=\"locations\", visible=False)\n",
    "fig.update_layout(margin={\"r\":0,\"t\":0,\"l\":0,\"b\":0})\n",
    "fig.write_image('./images/CCAA_contagios_latest.png')\n",
    "plotly.offline.plot(fig, filename='./images/CCAA_contagios_latest.html',auto_open=False)\n",
    "fig.show()"
   ]
  },
  {
   "cell_type": "code",
   "execution_count": null,
   "metadata": {
    "ExecuteTime": {
     "end_time": "2020-03-29T17:50:26.452952Z",
     "start_time": "2020-03-29T17:50:21.522411Z"
    }
   },
   "outputs": [],
   "source": [
    "fig = px.choropleth(virus_latest, geojson=ccaa_clean, color=\"casos/pop\",\n",
    "                    locations=\"cod_ine\", featureidkey=\"id\",\n",
    "                    projection=\"mercator\",\n",
    "                    color_continuous_scale=\"OrRd\", \n",
    "#                     title='Contagios por CCAA',\n",
    "                    labels={'casos/pop':'Contagios por 100.000 habitantes'}\n",
    "                   )\n",
    "                   \n",
    "fig.update_geos(fitbounds=\"locations\", visible=False)\n",
    "fig.update_layout(margin={\"r\":0,\"t\":0,\"l\":0,\"b\":0})\n",
    "fig.write_image('./images/CCAA_contagios_pop_latest.png')\n",
    "plotly.offline.plot(fig, filename='./images/CCAA_contagios_pop_latest.html',auto_open=False)\n",
    "fig.show()"
   ]
  },
  {
   "cell_type": "code",
   "execution_count": null,
   "metadata": {
    "ExecuteTime": {
     "end_time": "2020-03-29T17:50:31.098311Z",
     "start_time": "2020-03-29T17:50:26.455954Z"
    }
   },
   "outputs": [],
   "source": [
    "fig = px.choropleth(virus_latest, geojson=ccaa_clean, color=\"uci/uci_disp\",\n",
    "                    locations=\"cod_ine\", featureidkey=\"id\",\n",
    "                    projection=\"mercator\",\n",
    "                    color_continuous_scale=\"OrRd\", \n",
    "#                     title='Contagios por CCAA',\n",
    "                    labels={'uci/uci_disp':'Personas en UCI sb. UCI disponibles (2017)'}\n",
    "                   )\n",
    "                   \n",
    "fig.update_geos(fitbounds=\"locations\", visible=False)\n",
    "fig.update_layout(margin={\"r\":0,\"t\":0,\"l\":0,\"b\":0})\n",
    "fig.write_image('./images/CCAA_uci_uci_disp_latest.png')\n",
    "plotly.offline.plot(fig, filename='./images/CCAA_uci_uci_disp_latest.html',auto_open=False)\n",
    "fig.show()"
   ]
  },
  {
   "cell_type": "markdown",
   "metadata": {},
   "source": [
    "## Evolution"
   ]
  },
  {
   "cell_type": "code",
   "execution_count": null,
   "metadata": {
    "ExecuteTime": {
     "end_time": "2020-03-29T17:50:31.127330Z",
     "start_time": "2020-03-29T17:50:31.100310Z"
    }
   },
   "outputs": [],
   "source": [
    "# virus.head()"
   ]
  },
  {
   "cell_type": "code",
   "execution_count": null,
   "metadata": {
    "ExecuteTime": {
     "end_time": "2020-03-29T17:58:40.956927Z",
     "start_time": "2020-03-29T17:57:43.816313Z"
    }
   },
   "outputs": [],
   "source": [
    "virus_temp = virus\n",
    "virus_temp['fecha'] = pd.to_datetime(virus_temp['fecha'])\n",
    "virus_temp['fecha'] = virus_temp['fecha'].dt.strftime('%m/%d/%Y')\n",
    "virus_temp.sort_values(by='fecha',inplace=True)\n",
    "fig = px.choropleth(virus_temp, geojson=ccaa_clean, color=\"casos\",\n",
    "                    locations=\"cod_ine\", featureidkey=\"id\",\n",
    "                    projection=\"mercator\",\n",
    "                    color_continuous_scale=\"OrRd\", \n",
    "#                     title='Contagios por CCAA',\n",
    "                    animation_frame='fecha',\n",
    "                    range_color= [0, max(virus_temp['casos'])]\n",
    "                    , labels={'casos':'Contagios','fecha':'Fecha'})\n",
    "                   \n",
    "                   \n",
    "fig.update_geos(fitbounds=\"locations\", visible=False)\n",
    "fig.update_layout(margin={\"r\":0,\"t\":0,\"l\":0,\"b\":0})\n",
    "plotly.offline.plot(fig, filename='./images/CCAA_contagios_evol.html',auto_open=False)\n",
    "# fig.show()"
   ]
  },
  {
   "cell_type": "code",
   "execution_count": null,
   "metadata": {
    "ExecuteTime": {
     "end_time": "2020-03-29T18:00:15.332848Z",
     "start_time": "2020-03-29T17:58:40.959929Z"
    }
   },
   "outputs": [],
   "source": [
    "virus_temp = virus\n",
    "virus_temp['fecha'] = pd.to_datetime(virus_temp['fecha'])\n",
    "virus_temp['fecha'] = virus_temp['fecha'].dt.strftime('%m/%d/%Y')\n",
    "virus_temp.sort_values(by='fecha',inplace=True)\n",
    "fig = px.choropleth(virus_temp, geojson=ccaa_clean, color=\"casos/pop\",\n",
    "                    locations=\"cod_ine\", featureidkey=\"id\",\n",
    "                    projection=\"mercator\",\n",
    "                    color_continuous_scale=\"OrRd\", \n",
    "                    title='Contagios por CCAA',\n",
    "                    animation_frame='fecha',\n",
    "                    range_color= [0, max(virus_temp['casos/pop'])]\n",
    "                    , labels={'casos/pop':'Contagios por 100.000 habitantes','fecha':'Fecha'},)\n",
    "                   \n",
    "                   \n",
    "fig.update_geos(fitbounds=\"locations\", visible=False)\n",
    "fig.update_layout(margin={\"r\":0,\"t\":0,\"l\":0,\"b\":0})\n",
    "plotly.offline.plot(fig, filename='./images/CCAA_contagios_pop_evol.html',auto_open=False)\n",
    "fig.show()"
   ]
  },
  {
   "cell_type": "code",
   "execution_count": null,
   "metadata": {
    "ExecuteTime": {
     "start_time": "2020-03-29T18:15:55.816Z"
    }
   },
   "outputs": [],
   "source": [
    "virus_temp = virus\n",
    "virus_temp['fecha'] = pd.to_datetime(virus_temp['fecha'])\n",
    "virus_temp['fecha'] = virus_temp['fecha'].dt.strftime('%m/%d/%Y')\n",
    "virus_temp.sort_values(by='fecha',inplace=True)\n",
    "fig = px.choropleth(virus_temp, geojson=ccaa_clean, color=\"uci/uci_disp\",\n",
    "                    locations=\"cod_ine\", featureidkey=\"id\",\n",
    "                    projection=\"mercator\",\n",
    "                    color_continuous_scale=\"OrRd\", \n",
    "                    title='Contagios por CCAA',\n",
    "                    animation_frame='fecha',\n",
    "                    range_color= [0, max(virus_temp['uci/uci_disp'])]\n",
    "                    , labels={'uci/uci_disp':'Personas en UCI sb. UCI disponibles (2017)','fecha':'Fecha'},)\n",
    "                   \n",
    "                   \n",
    "fig.update_geos(fitbounds=\"locations\", visible=False)\n",
    "fig.update_layout(margin={\"r\":0,\"t\":0,\"l\":0,\"b\":0})\n",
    "plotly.offline.plot(fig, filename='./images/CCAA_uci_disp_evol.html',auto_open=False)\n",
    "fig.show()"
   ]
  },
  {
   "cell_type": "code",
   "execution_count": null,
   "metadata": {},
   "outputs": [],
   "source": []
  },
  {
   "cell_type": "code",
   "execution_count": null,
   "metadata": {},
   "outputs": [],
   "source": []
  },
  {
   "cell_type": "code",
   "execution_count": null,
   "metadata": {},
   "outputs": [],
   "source": []
  },
  {
   "cell_type": "code",
   "execution_count": null,
   "metadata": {},
   "outputs": [],
   "source": []
  },
  {
   "cell_type": "code",
   "execution_count": null,
   "metadata": {},
   "outputs": [],
   "source": []
  },
  {
   "cell_type": "code",
   "execution_count": null,
   "metadata": {},
   "outputs": [],
   "source": []
  },
  {
   "cell_type": "code",
   "execution_count": null,
   "metadata": {},
   "outputs": [],
   "source": []
  }
 ],
 "metadata": {
  "kernelspec": {
   "display_name": "Python 3",
   "language": "python",
   "name": "python3"
  },
  "language_info": {
   "codemirror_mode": {
    "name": "ipython",
    "version": 3
   },
   "file_extension": ".py",
   "mimetype": "text/x-python",
   "name": "python",
   "nbconvert_exporter": "python",
   "pygments_lexer": "ipython3",
   "version": "3.8.1"
  },
  "toc": {
   "base_numbering": 1,
   "nav_menu": {},
   "number_sections": true,
   "sideBar": true,
   "skip_h1_title": false,
   "title_cell": "Table of Contents",
   "title_sidebar": "Contents",
   "toc_cell": false,
   "toc_position": {
    "height": "calc(100% - 180px)",
    "left": "10px",
    "top": "150px",
    "width": "349px"
   },
   "toc_section_display": true,
   "toc_window_display": true
  },
  "varInspector": {
   "cols": {
    "lenName": 16,
    "lenType": 16,
    "lenVar": 40
   },
   "kernels_config": {
    "python": {
     "delete_cmd_postfix": "",
     "delete_cmd_prefix": "del ",
     "library": "var_list.py",
     "varRefreshCmd": "print(var_dic_list())"
    },
    "r": {
     "delete_cmd_postfix": ") ",
     "delete_cmd_prefix": "rm(",
     "library": "var_list.r",
     "varRefreshCmd": "cat(var_dic_list()) "
    }
   },
   "types_to_exclude": [
    "module",
    "function",
    "builtin_function_or_method",
    "instance",
    "_Feature"
   ],
   "window_display": false
  }
 },
 "nbformat": 4,
 "nbformat_minor": 4
}
